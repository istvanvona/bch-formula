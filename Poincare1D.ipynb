{
 "cells": [
  {
   "cell_type": "code",
   "execution_count": 1,
   "metadata": {
    "collapsed": true
   },
   "outputs": [],
   "source": [
    "%display latex\n",
    "import warnings\n",
    "from IPython.display import display, Latex\n",
    "render = lambda *args: show(*[(LatexExpr(a) if type(a) is str else latex(a))  for a in args])\n",
    "hyp2exp = lambda expr: expr._maxima_().exponentialize().sage()\n",
    "warnings.filterwarnings('ignore')\n",
    "load('bch.sage')"
   ]
  },
  {
   "cell_type": "markdown",
   "metadata": {},
   "source": [
    "#### We use the one-dimensional Poincaré-group in homogeneous coordinates to demonstrate a possible usage of the Baker-Campbell-Hausdorff formula.\n",
    "\n",
    "*(The same can be calculated by hand with the [formula](https://en.wikipedia.org/wiki/Baker%E2%80%93Campbell%E2%80%93Hausdorff_formula#Selected_tractable_cases) given for the special case $ \\left[X,Y\\right] = s Y $ with appropriately choosing X and Y.)*\n",
    "\n",
    "The Poincaré-transformation itself with the generators ($\\chi$ is the rapidity):"
   ]
  },
  {
   "cell_type": "code",
   "execution_count": 2,
   "metadata": {},
   "outputs": [
    {
     "data": {
      "text/html": [
       "<html><script type=\"math/tex; mode=display\">\\newcommand{\\Bold}[1]{\\mathbf{#1}}P(\\chi, t_0, x_0) \\left(\\begin{array}{r}\n",
       "t \\\\\n",
       "x \\\\\n",
       "1\n",
       "\\end{array}\\right) = \\left(\\begin{array}{r}\n",
       "t \\cosh\\left({\\chi }\\right) + x \\sinh\\left({\\chi }\\right) + t_{0} \\\\\n",
       "x \\cosh\\left({\\chi }\\right) + t \\sinh\\left({\\chi }\\right) + x_{0} \\\\\n",
       "1\n",
       "\\end{array}\\right)</script></html>"
      ],
      "text/plain": [
       "P(\\chi, t_0, x_0) \\left(\\begin{array}{r}\n",
       "t \\\\\n",
       "x \\\\\n",
       "1\n",
       "\\end{array}\\right) = \\left(\\begin{array}{r}\n",
       "t \\cosh\\left({\\chi }\\right) + x \\sinh\\left({\\chi }\\right) + t_{0} \\\\\n",
       "x \\cosh\\left({\\chi }\\right) + t \\sinh\\left({\\chi }\\right) + x_{0} \\\\\n",
       "1\n",
       "\\end{array}\\right)"
      ]
     },
     "metadata": {},
     "output_type": "display_data"
    },
    {
     "data": {
      "text/html": [
       "<html><script type=\"math/tex; mode=display\">\\newcommand{\\Bold}[1]{\\mathbf{#1}}K = -\\partial_\\chi P(0,0,0) =  \\left(\\begin{array}{rrr}\n",
       "0 & -1 & 0 \\\\\n",
       "-1 & 0 & 0 \\\\\n",
       "0 & 0 & 0\n",
       "\\end{array}\\right) ,~~ E = -\\partial_{t_0} P(0,0,0) =  \\left(\\begin{array}{rrr}\n",
       "0 & 0 & -1 \\\\\n",
       "0 & 0 & 0 \\\\\n",
       "0 & 0 & 0\n",
       "\\end{array}\\right) ,~~ p = \\partial_{x_0}P(0,0,0) =  \\left(\\begin{array}{rrr}\n",
       "0 & 0 & 0 \\\\\n",
       "0 & 0 & 1 \\\\\n",
       "0 & 0 & 0\n",
       "\\end{array}\\right)</script></html>"
      ],
      "text/plain": [
       "K = -\\partial_\\chi P(0,0,0) =  \\left(\\begin{array}{rrr}\n",
       "0 & -1 & 0 \\\\\n",
       "-1 & 0 & 0 \\\\\n",
       "0 & 0 & 0\n",
       "\\end{array}\\right) ,~~ E = -\\partial_{t_0} P(0,0,0) =  \\left(\\begin{array}{rrr}\n",
       "0 & 0 & -1 \\\\\n",
       "0 & 0 & 0 \\\\\n",
       "0 & 0 & 0\n",
       "\\end{array}\\right) ,~~ p = \\partial_{x_0}P(0,0,0) =  \\left(\\begin{array}{rrr}\n",
       "0 & 0 & 0 \\\\\n",
       "0 & 0 & 1 \\\\\n",
       "0 & 0 & 0\n",
       "\\end{array}\\right)"
      ]
     },
     "metadata": {},
     "output_type": "display_data"
    }
   ],
   "source": [
    "var('chi', latex_name = '\\chi '), var('t_0, x_0, t, x')\n",
    "P = lambda chi, t_0, x_0: Matrix([[cosh(chi), sinh(chi), t_0],\n",
    "                                  [sinh(chi), cosh(chi), x_0],\n",
    "                                  [        0,         0,   1]])\n",
    "Gen = lambda x: diff(P(chi, t_0, x_0), x).subs({x:0})\n",
    "K , E, p = keep = -Gen(chi), -Gen(t_0), Gen(x_0)\n",
    "X = Matrix([[t],[x],[1]])\n",
    "render(r\"P(\\chi, t_0, x_0)\", X, \"=\", P(chi,t_0,x_0)*X)\n",
    "render(\"K = -\\partial_\\chi P(0,0,0) = \", K, \",~~ E = -\\partial_{t_0} P(0,0,0) = \", E, \",~~ p = \\partial_{x_0}P(0,0,0) = \", p)"
   ]
  },
  {
   "cell_type": "code",
   "execution_count": 3,
   "metadata": {},
   "outputs": [
    {
     "data": {
      "text/html": [
       "<html><script type=\"math/tex; mode=display\">\\newcommand{\\Bold}[1]{\\mathbf{#1}}\\left(\\mathrm{True}, \\mathrm{True}, \\mathrm{True}\\right)</script></html>"
      ],
      "text/plain": [
       "(True, True, True)"
      ]
     },
     "execution_count": 3,
     "metadata": {},
     "output_type": "execute_result"
    }
   ],
   "source": [
    "K*E-E*K == p, K*p-p*K == E, E*p == p*E"
   ]
  },
  {
   "cell_type": "markdown",
   "metadata": {},
   "source": [
    "The group reconstructed as the product of one-parameter subgroups looks like the following:\n",
    "\n",
    "$$\\exp(-t_0 E)\\exp(x_0 p)\\exp(-\\chi K) = \\exp(-t_0 E + x_0 p) \\exp(-\\chi K) = \\exp(X) \\exp(Y),$$\n",
    "\n",
    "where:\n",
    "\n",
    "$$ X = -t_0 E + x_0 p, Y = - \\chi K .$$\n",
    "\n",
    "(The first two exponential can be trivially written as one because the two generators $E$, $p$ are already commuting). \n",
    "Sage can verify that this is the original matrix... well, at least partially:"
   ]
  },
  {
   "cell_type": "code",
   "execution_count": 4,
   "metadata": {},
   "outputs": [
    {
     "data": {
      "text/html": [
       "<html><script type=\"math/tex; mode=display\">\\newcommand{\\Bold}[1]{\\mathbf{#1}}\\exp(X)\\exp(Y) =  \\left(\\begin{array}{rrr}\n",
       "\\frac{1}{2} \\, {\\left(e^{\\left(2 \\, {\\chi }\\right)} + 1\\right)} e^{\\left(-{\\chi }\\right)} & \\frac{1}{2} \\, {\\left(e^{\\left(2 \\, {\\chi }\\right)} - 1\\right)} e^{\\left(-{\\chi }\\right)} & t_{0} \\\\\n",
       "\\frac{1}{2} \\, {\\left(e^{\\left(2 \\, {\\chi }\\right)} - 1\\right)} e^{\\left(-{\\chi }\\right)} & \\frac{1}{2} \\, {\\left(e^{\\left(2 \\, {\\chi }\\right)} + 1\\right)} e^{\\left(-{\\chi }\\right)} & x_{0} \\\\\n",
       "0 & 0 & 1\n",
       "\\end{array}\\right)</script></html>"
      ],
      "text/plain": [
       "\\exp(X)\\exp(Y) =  \\left(\\begin{array}{rrr}\n",
       "\\frac{1}{2} \\, {\\left(e^{\\left(2 \\, {\\chi }\\right)} + 1\\right)} e^{\\left(-{\\chi }\\right)} & \\frac{1}{2} \\, {\\left(e^{\\left(2 \\, {\\chi }\\right)} - 1\\right)} e^{\\left(-{\\chi }\\right)} & t_{0} \\\\\n",
       "\\frac{1}{2} \\, {\\left(e^{\\left(2 \\, {\\chi }\\right)} - 1\\right)} e^{\\left(-{\\chi }\\right)} & \\frac{1}{2} \\, {\\left(e^{\\left(2 \\, {\\chi }\\right)} + 1\\right)} e^{\\left(-{\\chi }\\right)} & x_{0} \\\\\n",
       "0 & 0 & 1\n",
       "\\end{array}\\right)"
      ]
     },
     "metadata": {},
     "output_type": "display_data"
    }
   ],
   "source": [
    "render(\"\\exp(X)\\exp(Y) = \", (exp(-t_0*E + x_0*p)*exp(-chi*K)).canonicalize_radical()) #Sage cannot simplify this further easily."
   ]
  },
  {
   "cell_type": "markdown",
   "metadata": {},
   "source": [
    "Now we can transform this further, as the whole group element can be expressed as an exponential of something, according to [BCH formula]( https://en.wikipedia.org/wiki/Baker–Campbell–Hausdorff_formula ):\n",
    "\n",
    "$$ \\exp(X) \\exp(Y) = \\exp(Z) = \\exp( X + Y + \\ldots) $$.\n",
    "\n",
    "First we define an abstract Lie-algebra with the proper structure constants."
   ]
  },
  {
   "cell_type": "code",
   "execution_count": 5,
   "metadata": {},
   "outputs": [
    {
     "data": {
      "text/html": [
       "<html><script type=\"math/tex; mode=display\">\\newcommand{\\Bold}[1]{\\mathbf{#1}}\\left[ K , E \\right] =  p</script></html>"
      ],
      "text/plain": [
       "\\left[ K , E \\right] =  p"
      ]
     },
     "metadata": {},
     "output_type": "display_data"
    },
    {
     "data": {
      "text/html": [
       "<html><script type=\"math/tex; mode=display\">\\newcommand{\\Bold}[1]{\\mathbf{#1}}\\left[ K , p \\right] =  E</script></html>"
      ],
      "text/plain": [
       "\\left[ K , p \\right] =  E"
      ]
     },
     "metadata": {},
     "output_type": "display_data"
    }
   ],
   "source": [
    "Poincare1D.<K,E,p> = LieAlgebra(SR, {('K','E'):{'p':1}, ('K','p'):{'E':1}})\n",
    "comm = lambda x,y: render(r\"\\left[\", x,  \",\", y,r\"\\right] = \", Poincare1D[x,y])\n",
    "comm(K,E)\n",
    "comm(K,p)"
   ]
  },
  {
   "cell_type": "markdown",
   "metadata": {},
   "source": [
    "Then calculate the [explicit BCH formula]( https://en.wikipedia.org/wiki/Baker%E2%80%93Campbell%E2%80%93Hausdorff_formula#An_explicit_Baker.E2.80.93Campbell.E2.80.93Hausdorff_formula ) until some order to be able to guess the shape of $Z$ defined above. Sage does the job and simplifies the repeated commutators."
   ]
  },
  {
   "cell_type": "code",
   "execution_count": 6,
   "metadata": {},
   "outputs": [
    {
     "data": {
      "text/html": [
       "<html><script type=\"math/tex; mode=display\">\\newcommand{\\Bold}[1]{\\mathbf{#1}}Z \\approx \\left(-{\\chi }\\right)K + \\left(-\\frac{1}{30240} \\, {\\chi }^{6} t_{0} + \\frac{1}{720} \\, {\\chi }^{4} t_{0} - \\frac{1}{12} \\, {\\chi }^{2} t_{0} + \\frac{1}{2} \\, {\\chi } x_{0} - t_{0}\\right)E + \\left(\\frac{1}{30240} \\, {\\chi }^{6} x_{0} - \\frac{1}{720} \\, {\\chi }^{4} x_{0} + \\frac{1}{12} \\, {\\chi }^{2} x_{0} - \\frac{1}{2} \\, {\\chi } t_{0} + x_{0}\\right)p</script></html>"
      ],
      "text/plain": [
       "Z \\approx \\left(-{\\chi }\\right)K + \\left(-\\frac{1}{30240} \\, {\\chi }^{6} t_{0} + \\frac{1}{720} \\, {\\chi }^{4} t_{0} - \\frac{1}{12} \\, {\\chi }^{2} t_{0} + \\frac{1}{2} \\, {\\chi } x_{0} - t_{0}\\right)E + \\left(\\frac{1}{30240} \\, {\\chi }^{6} x_{0} - \\frac{1}{720} \\, {\\chi }^{4} x_{0} + \\frac{1}{12} \\, {\\chi }^{2} x_{0} - \\frac{1}{2} \\, {\\chi } t_{0} + x_{0}\\right)p"
      ]
     },
     "metadata": {},
     "output_type": "display_data"
    }
   ],
   "source": [
    "X, Y = -t_0*E + x_0*p, -chi*K\n",
    "Z = sum(Dynkin_BCH(X, Y, 6, commutator = Poincare1D.bracket))\n",
    "render(r\"Z \\approx\", Z)"
   ]
  },
  {
   "cell_type": "markdown",
   "metadata": {},
   "source": [
    "We can identify the series-expansion appearing in the previous expression by looking up the sequence formed from the denominators of the coefficients: https://oeis.org/A227830."
   ]
  },
  {
   "cell_type": "code",
   "execution_count": 7,
   "metadata": {},
   "outputs": [
    {
     "data": {
      "text/html": [
       "<html><script type=\"math/tex; mode=display\">\\newcommand{\\Bold}[1]{\\mathbf{#1}}\\frac{{\\chi }}{e^{\\left({\\chi }\\right)} - 1} \\approx \\frac{1}{30240} \\, {\\chi }^{6} - \\frac{1}{720} \\, {\\chi }^{4} + \\frac{1}{12} \\, {\\chi }^{2} - \\frac{1}{2} \\, {\\chi } + 1</script></html>"
      ],
      "text/plain": [
       "\\frac{{\\chi }}{e^{\\left({\\chi }\\right)} - 1} \\approx \\frac{1}{30240} \\, {\\chi }^{6} - \\frac{1}{720} \\, {\\chi }^{4} + \\frac{1}{12} \\, {\\chi }^{2} - \\frac{1}{2} \\, {\\chi } + 1"
      ]
     },
     "metadata": {},
     "output_type": "display_data"
    }
   ],
   "source": [
    "f(chi) = -chi/(1-exp(chi))\n",
    "render(f(chi) , r\"\\approx\" , taylor(f(chi), chi, 0, 6))"
   ]
  },
  {
   "cell_type": "markdown",
   "metadata": {},
   "source": [
    "Then we can figure out the formula for $Z$ and \"prove\" that it also gives back the same element of the matrix group we started from."
   ]
  },
  {
   "cell_type": "code",
   "execution_count": 8,
   "metadata": {},
   "outputs": [
    {
     "data": {
      "text/html": [
       "<html><script type=\"math/tex; mode=display\">\\newcommand{\\Bold}[1]{\\mathbf{#1}}P =  e^{\\left(-\\frac{1}{2} \\, {\\left({\\left(E + p\\right)} {\\left(t_{0} - x_{0}\\right)} + 2 \\, K + \\frac{2 \\, {\\left(E t_{0} - p x_{0}\\right)}}{e^{\\left({\\chi }\\right)} - 1}\\right)} {\\chi }\\right)}</script></html>"
      ],
      "text/plain": [
       "P =  e^{\\left(-\\frac{1}{2} \\, {\\left({\\left(E + p\\right)} {\\left(t_{0} - x_{0}\\right)} + 2 \\, K + \\frac{2 \\, {\\left(E t_{0} - p x_{0}\\right)}}{e^{\\left({\\chi }\\right)} - 1}\\right)} {\\chi }\\right)}"
      ]
     },
     "metadata": {},
     "output_type": "display_data"
    }
   ],
   "source": [
    "exponentialize = lambda K,E,p: exp(-chi*(K +(t_0-x_0)*(E+p)/2 - 1/(1-exp(chi))*(E*t_0 - p*x_0))) \n",
    "var('K', 'E','p')\n",
    "render(\"P = \", exponentialize(K,E,p))"
   ]
  },
  {
   "cell_type": "code",
   "execution_count": 9,
   "metadata": {},
   "outputs": [
    {
     "data": {
      "text/html": [
       "<html><script type=\"math/tex; mode=display\">\\newcommand{\\Bold}[1]{\\mathbf{#1}}P(\\chi, t_0, x_0) =  \\left(\\begin{array}{rrr}\n",
       "\\frac{1}{2} \\, {\\left(e^{\\left(2 \\, {\\chi }\\right)} + 1\\right)} e^{\\left(-{\\chi }\\right)} & \\frac{1}{2} \\, {\\left(e^{\\left(2 \\, {\\chi }\\right)} - 1\\right)} e^{\\left(-{\\chi }\\right)} & t_{0} \\\\\n",
       "\\frac{1}{2} \\, {\\left(e^{\\left(2 \\, {\\chi }\\right)} - 1\\right)} e^{\\left(-{\\chi }\\right)} & \\frac{1}{2} \\, {\\left(e^{\\left(2 \\, {\\chi }\\right)} + 1\\right)} e^{\\left(-{\\chi }\\right)} & x_{0} \\\\\n",
       "0 & 0 & 1\n",
       "\\end{array}\\right)</script></html>"
      ],
      "text/plain": [
       "P(\\chi, t_0, x_0) =  \\left(\\begin{array}{rrr}\n",
       "\\frac{1}{2} \\, {\\left(e^{\\left(2 \\, {\\chi }\\right)} + 1\\right)} e^{\\left(-{\\chi }\\right)} & \\frac{1}{2} \\, {\\left(e^{\\left(2 \\, {\\chi }\\right)} - 1\\right)} e^{\\left(-{\\chi }\\right)} & t_{0} \\\\\n",
       "\\frac{1}{2} \\, {\\left(e^{\\left(2 \\, {\\chi }\\right)} - 1\\right)} e^{\\left(-{\\chi }\\right)} & \\frac{1}{2} \\, {\\left(e^{\\left(2 \\, {\\chi }\\right)} + 1\\right)} e^{\\left(-{\\chi }\\right)} & x_{0} \\\\\n",
       "0 & 0 & 1\n",
       "\\end{array}\\right)"
      ]
     },
     "metadata": {},
     "output_type": "display_data"
    }
   ],
   "source": [
    "K,E,p = keep\n",
    "render(r\"P(\\chi, t_0, x_0) = \", exponentialize(K,E,p).canonicalize_radical())"
   ]
  }
 ],
 "metadata": {
  "kernelspec": {
   "display_name": "SageMath 8.0",
   "language": "",
   "name": "sagemath"
  },
  "language_info": {
   "codemirror_mode": {
    "name": "ipython",
    "version": 2
   },
   "file_extension": ".py",
   "mimetype": "text/x-python",
   "name": "python",
   "nbconvert_exporter": "python",
   "pygments_lexer": "ipython2",
   "version": "2.7.13"
  }
 },
 "nbformat": 4,
 "nbformat_minor": 2
}
